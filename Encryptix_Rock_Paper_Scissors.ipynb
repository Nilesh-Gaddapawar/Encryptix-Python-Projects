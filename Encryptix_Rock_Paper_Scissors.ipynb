{
  "nbformat": 4,
  "nbformat_minor": 0,
  "metadata": {
    "colab": {
      "provenance": []
    },
    "kernelspec": {
      "name": "python3",
      "display_name": "Python 3"
    },
    "language_info": {
      "name": "python"
    }
  },
  "cells": [
    {
      "cell_type": "markdown",
      "source": [
        "#**Encryptix Virtual Internship Task submission**\n",
        "By **Nilesh Gaddapawar** (ID: EXM126142)\n",
        "#**Rock-Paper-Scissors Game**\n",
        "using Python Programming\n"
      ],
      "metadata": {
        "id": "i2AotSsngTXQ"
      }
    },
    {
      "cell_type": "markdown",
      "source": [
        "User Input: Prompt the user to choose rock, paper, or scissors.\n",
        "\n",
        "Computer Selection: Generate a random choice (rock, paper, or scissors)\n",
        "for the computer.\n",
        "\n",
        "Game Logic: Determine the winner based on the user's choice and the computer's choice.\n",
        "\n",
        "Rock beats scissors, scissors beat paper, and paper beats rock.\n",
        "Display Result: Show the user's choice and the computer's choice.\n",
        "\n",
        "Display the result, whether the user wins, loses, or it's a tie.\n",
        "\n",
        "Score Tracking (Optional): Keep track of the user's and computer's\n",
        "scores for multiple rounds.\n",
        "\n",
        "Play Again: Ask the user if they want to play another round.\n",
        "\n",
        "User Interface: Design a user-friendly interface with clear instructions and feedback."
      ],
      "metadata": {
        "id": "t32J63ZufhPI"
      }
    },
    {
      "cell_type": "code",
      "execution_count": null,
      "metadata": {
        "colab": {
          "base_uri": "https://localhost:8080/"
        },
        "id": "XwlIVq2h7d5w",
        "outputId": "3e6cd190-0415-4ad5-8f27-c37ba000372e"
      },
      "outputs": [
        {
          "output_type": "stream",
          "name": "stdout",
          "text": [
            "\n",
            "Let's play Rock-Paper-Scissors!\n",
            "Score: You - 0, Computer - 0\n",
            "Choose Rock, Paper, or Scissors (or type 'quit' to exit or 'score' to show score): rock\n",
            "Your choice: Rock\n",
            "Computer's choice: Rock\n",
            "It's a tie!\n",
            "Do you want to play again? (yes/no): yes\n",
            "\n",
            "Let's play Rock-Paper-Scissors!\n",
            "Score: You - 0, Computer - 0\n",
            "Choose Rock, Paper, or Scissors (or type 'quit' to exit or 'score' to show score): paper\n",
            "Your choice: Paper\n",
            "Computer's choice: Rock\n",
            "You win!\n",
            "Do you want to play again? (yes/no): yes\n",
            "\n",
            "Let's play Rock-Paper-Scissors!\n",
            "Score: You - 1, Computer - 0\n",
            "Choose Rock, Paper, or Scissors (or type 'quit' to exit or 'score' to show score): scissors\n",
            "Your choice: Scissors\n",
            "Computer's choice: Paper\n",
            "You win!\n",
            "Do you want to play again? (yes/no): yes\n",
            "\n",
            "Let's play Rock-Paper-Scissors!\n",
            "Score: You - 2, Computer - 0\n",
            "Choose Rock, Paper, or Scissors (or type 'quit' to exit or 'score' to show score): exit\n",
            "Thanks for playing! Goodbye!\n"
          ]
        }
      ],
      "source": [
        "import random\n",
        "\n",
        "# Initialize scores\n",
        "user_score = 0\n",
        "computer_score = 0\n",
        "\n",
        "while True:\n",
        "    print(\"\\nLet's play Rock-Paper-Scissors!\")\n",
        "    print(f\"Score: You - {user_score}, Computer - {computer_score}\")\n",
        "\n",
        "    choices = [\"rock\", \"paper\", \"scissors\"]\n",
        "    user_choice = input(\"Choose Rock, Paper, or Scissors (or type 'quit' to exit or 'score' to show score): \").strip().lower()\n",
        "\n",
        "    if user_choice == \"quit\" or user_choice == \"exit\":\n",
        "        print(\"Thanks for playing! Goodbye!\")\n",
        "        break\n",
        "    elif user_choice == \"score\":\n",
        "        print(f\"Current score: You - {user_score}, Computer - {computer_score}\")\n",
        "    elif user_choice in choices:\n",
        "        computer_choice = random.choice(choices)\n",
        "\n",
        "        print(f\"Your choice: {user_choice.capitalize()}\")\n",
        "        print(f\"Computer's choice: {computer_choice.capitalize()}\")\n",
        "\n",
        "        if user_choice == computer_choice:\n",
        "            print(\"It's a tie!\")\n",
        "        elif (user_choice == \"rock\" and computer_choice == \"scissors\") or (user_choice == \"paper\" and computer_choice == \"rock\") or (user_choice == \"scissors\" and computer_choice == \"paper\"):\n",
        "            print(\"You win!\")\n",
        "            user_score += 1\n",
        "        else:\n",
        "            print(\"Computer wins!\")\n",
        "            computer_score += 1\n",
        "    else:\n",
        "        print(\"Invalid choice. Please choose Rock, Paper, or Scissors or type 'quit' to exit or 'score' to show score.\")\n",
        "\n",
        "    # Ask the user if they want to play again\n",
        "    play_again = input(\"Do you want to play again? (yes/no): \").strip().lower()\n",
        "    if play_again == \"no\":\n",
        "        print(\"Thanks for playing! Goodbye!\")\n",
        "        break"
      ]
    }
  ]
}