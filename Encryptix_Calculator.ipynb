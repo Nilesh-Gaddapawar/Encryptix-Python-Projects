{
  "nbformat": 4,
  "nbformat_minor": 0,
  "metadata": {
    "colab": {
      "provenance": []
    },
    "kernelspec": {
      "name": "python3",
      "display_name": "Python 3"
    },
    "language_info": {
      "name": "python"
    }
  },
  "cells": [
    {
      "cell_type": "markdown",
      "source": [
        "#**Encryptix Virtual Internship Task submission**\n",
        "By **Nilesh Gaddapawar** (ID: EXM126142)\n",
        "#**Calculator**\n",
        "using Python Programming"
      ],
      "metadata": {
        "id": "Mxm3cZzEuo1b"
      }
    },
    {
      "cell_type": "markdown",
      "source": [
        "Design a simple calculator with basic arithmetic operations.\n",
        "Prompt the user to input two numbers and an operation choice.\n",
        "Perform the calculation and display the result."
      ],
      "metadata": {
        "id": "FClRTbkLuabH"
      }
    },
    {
      "cell_type": "code",
      "execution_count": null,
      "metadata": {
        "colab": {
          "base_uri": "https://localhost:8080/"
        },
        "id": "prFEc6SnBkUr",
        "outputId": "5667353c-e42b-4345-feba-e94aeaf0c05f"
      },
      "outputs": [
        {
          "name": "stdout",
          "output_type": "stream",
          "text": [
            "Enter the first number: 15\n",
            "Enter the second number: 10\n",
            "Enter the operation (+, -, *, /): +\n",
            "Result:  25.0\n",
            "Do you want to perform another operation? (yes/no): yes\n",
            "Enter the operation (+, -, *, /): -\n",
            "Result:  5.0\n",
            "Do you want to perform another operation? (yes/no): yes\n",
            "Enter the operation (+, -, *, /): *\n",
            "Result:  150.0\n",
            "Do you want to perform another operation? (yes/no): yes\n",
            "Enter the operation (+, -, *, /): /\n",
            "Result:  1.5\n",
            "Do you want to perform another operation? (yes/no): no\n",
            "Do you want to exit the program or enter new numbers? (exit/numbers): numbers\n",
            "Enter the first number: 20\n",
            "Enter the second number: 10\n",
            "Enter the operation (+, -, *, /): +\n",
            "Result:  30.0\n",
            "Do you want to perform another operation? (yes/no): yes\n",
            "Enter the operation (+, -, *, /): -\n",
            "Result:  10.0\n",
            "Do you want to perform another operation? (yes/no): no\n",
            "Do you want to exit the program or enter new numbers? (exit/numbers): exit\n"
          ]
        }
      ],
      "source": [
        "# Define a function for each operation\n",
        "def add(x, y):\n",
        "  return x + y\n",
        "\n",
        "def sub(x, y):\n",
        "  return x - y\n",
        "\n",
        "def mul(x, y):\n",
        "  return x * y\n",
        "\n",
        "def div(x, y):\n",
        "  if y == 0:\n",
        "    return \"Error: Division by zero!\"\n",
        "  else:\n",
        "    return x / y\n",
        "\n",
        "while True:\n",
        "  num1 = float(input(\"Enter the first number: \"))\n",
        "  num2 = float(input(\"Enter the second number: \"))\n",
        "\n",
        "  while True:\n",
        "    operation = input(\"Enter the operation (+, -, *, /): \")\n",
        "\n",
        "    # Perform the calculation\n",
        "    if operation == \"+\":\n",
        "      result = add(num1, num2)\n",
        "    elif operation == \"-\":\n",
        "      result = sub(num1, num2)\n",
        "    elif operation == \"*\":\n",
        "      result = mul(num1, num2)\n",
        "    elif operation == \"/\":\n",
        "      result = div(num1, num2)\n",
        "    else:\n",
        "      result = \"Error: Invalid operation!\"\n",
        "\n",
        "    # Display the result\n",
        "    print(\"Result: \", result)\n",
        "\n",
        "    # Ask the user if they want to perform another operation\n",
        "    response = input(\"Do you want to perform another operation? (yes/no): \")\n",
        "    if response.lower() != \"yes\":\n",
        "      break\n",
        "\n",
        "  # Ask the user if they want to exit the program or enter new numbers\n",
        "  response = input(\"Do you want to exit the program or enter new numbers? (exit/numbers): \")\n",
        "  if response.lower() == \"exit\":\n",
        "    break"
      ]
    }
  ]
}